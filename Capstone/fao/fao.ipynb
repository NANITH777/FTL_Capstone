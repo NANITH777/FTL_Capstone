{
 "cells": [
  {
   "cell_type": "code",
   "execution_count": 1,
   "metadata": {},
   "outputs": [
    {
     "name": "stdout",
     "output_type": "stream",
     "text": [
      "Saved: Average_dietary_energy_requirement_kcal_cap_day.csv\n",
      "Saved: Average_dietary_energy_supply_adequacy_percent_3-year_average.csv\n",
      "Saved: Average_fat_supply_g_cap_day_3-year_average.csv\n",
      "Saved: Average_protein_supply_g_cap_day_3-year_average.csv\n",
      "Saved: Average_supply_of_protein_of_animal_origin_g_cap_day_3-year_average.csv\n",
      "Saved: Cereal_import_dependency_ratio_percent_3-year_average.csv\n",
      "Saved: Coefficient_of_variation_of_habitual_caloric_consumption_distribution_real_number.csv\n",
      "Saved: Dietary_energy_supply_used_in_the_estimation_of_prevalence_of_undernourishment_kcal_cap_day.csv\n",
      "Saved: Dietary_energy_supply_used_in_the_estimation_of_prevalence_of_undernourishment_kcal_cap_day_3-year_average.csv\n",
      "Saved: Gross_domestic_product_per_capita,_PPP,_constant_2017_international_$.csv\n",
      "Saved: Incidence_of_caloric_losses_at_retail_distribution_level_percent.csv\n",
      "Saved: Minimum_dietary_energy_requirement__kcal_cap_day.csv\n",
      "Saved: Number_of_children_under_5_years_affected_by_wasting_million.csv\n",
      "Saved: Number_of_children_under_5_years_of_age_who_are_overweight_modeled_estimates_million.csv\n",
      "Saved: Number_of_children_under_5_years_of_age_who_are_stunted_modeled_estimates_million.csv\n",
      "Saved: Number_of_moderately_or_severely_food_insecure_female_adults_million_3-year_average.csv\n",
      "Saved: Number_of_moderately_or_severely_food_insecure_male_adults_million_3-year_average.csv\n",
      "Saved: Number_of_moderately_or_severely_food_insecure_people_million_3-year_average.csv\n",
      "Saved: Number_of_newborns_with_low_birthweight_million.csv\n",
      "Saved: Number_of_obese_adults_18_years_and_older_million.csv\n",
      "Saved: Number_of_people_undernourished_million_3-year_average.csv\n",
      "Saved: Number_of_severely_food_insecure_female_adults_million_3-year_average.csv\n",
      "Saved: Number_of_severely_food_insecure_male_adults_million_3-year_average.csv\n",
      "Saved: Number_of_severely_food_insecure_people_million_3-year_average.csv\n",
      "Saved: Number_of_women_of_reproductive_age_15-49_years_affected_by_anemia_million.csv\n",
      "Saved: Per_capita_food_supply_variability_kcal_cap_day.csv\n",
      "Saved: Percent_of_arable_land_equipped_for_irrigation_percent_3-year_average.csv\n",
      "Saved: Percentage_of_children_under_5_years_affected_by_wasting_percent.csv\n",
      "Saved: Percentage_of_children_under_5_years_of_age_who_are_overweight_modelled_estimates_percent.csv\n",
      "Saved: Percentage_of_children_under_5_years_of_age_who_are_stunted_modelled_estimates_percent.csv\n",
      "Saved: Percentage_of_population_using_at_least_basic_drinking_water_services_percent.csv\n",
      "Saved: Percentage_of_population_using_at_least_basic_sanitation_services_percent.csv\n",
      "Saved: Percentage_of_population_using_safely_managed_drinking_water_services_percent.csv\n",
      "Saved: Percentage_of_population_using_safely_managed_sanitation_services_percent.csv\n",
      "Saved: Political_stability_and_absence_of_violence_terrorism_index.csv\n",
      "Saved: Prevalence_of_anemia_among_women_of_reproductive_age_15-49_years_percent.csv\n",
      "Saved: Prevalence_of_exclusive_breastfeeding_among_infants_0-5_months_of_age_percent.csv\n",
      "Saved: Prevalence_of_low_birthweight_percent.csv\n",
      "Saved: Prevalence_of_moderate_or_severe_food_insecurity_in_the_female_adult_population_percent_3-year_average.csv\n",
      "Saved: Prevalence_of_moderate_or_severe_food_insecurity_in_the_male_adult_population_percent_3-year_average.csv\n",
      "Saved: Prevalence_of_moderate_or_severe_food_insecurity_in_the_total_population_percent_3-year_average.csv\n",
      "Saved: Prevalence_of_obesity_in_the_adult_population_18_years_and_older_percent.csv\n",
      "Saved: Prevalence_of_severe_food_insecurity_in_the_female_adult_population_percent_3-year_average.csv\n",
      "Saved: Prevalence_of_severe_food_insecurity_in_the_male_adult_population_percent_3-year_average.csv\n",
      "Saved: Prevalence_of_severe_food_insecurity_in_the_total_population_percent_3-year_average.csv\n",
      "Saved: Prevalence_of_undernourishment_percent_3-year_average.csv\n",
      "Saved: Rail_lines_density_total_route_in_km_per_100_square_km_of_land_area.csv\n",
      "Saved: Share_of_dietary_energy_supply_derived_from_cereals,_roots_and_tubers_percent_3-year_average.csv\n",
      "Saved: Value_of_food_imports_in_total_merchandise_exports_percent_3-year_average.csv\n",
      "\n",
      "All CSV files have been saved in the 'features_csv_files' directory.\n"
     ]
    }
   ],
   "source": [
    "import pandas as pd\n",
    "import os\n",
    "\n",
    "# Load the dataset\n",
    "df = pd.read_csv(\"faodata.csv\")\n",
    "\n",
    "# Create a directory to store the CSV files\n",
    "output_dir = \"features_csv_files\"\n",
    "os.makedirs(output_dir, exist_ok=True)\n",
    "\n",
    "# Group the dataset by the 'Item' column\n",
    "grouped = df.groupby('Item')\n",
    "\n",
    "# Save each group as a separate CSV file\n",
    "for item, group in grouped:\n",
    "    # Replace spaces and special characters in the filename\n",
    "    filename = f\"{item}.csv\".replace(\" \", \"_\").replace(\"/\", \"_\").replace(\"(\", \"\").replace(\")\", \"\")\n",
    "    \n",
    "    # Save the group to a CSV file\n",
    "    group.to_csv(os.path.join(output_dir, filename), index=False)\n",
    "    \n",
    "    print(f\"Saved: {filename}\")\n",
    "\n",
    "print(f\"\\nAll CSV files have been saved in the '{output_dir}' directory.\")"
   ]
  },
  {
   "cell_type": "code",
   "execution_count": 2,
   "metadata": {},
   "outputs": [
    {
     "data": {
      "text/plain": [
       "Index(['Domain', 'Area', 'Element', 'Item', 'Year', 'Unit', 'Value'], dtype='object')"
      ]
     },
     "execution_count": 2,
     "metadata": {},
     "output_type": "execute_result"
    }
   ],
   "source": [
    "df.columns"
   ]
  },
  {
   "cell_type": "code",
   "execution_count": 3,
   "metadata": {},
   "outputs": [],
   "source": [
    "columns_to_drop = ['Domain', 'Element', 'Unit']\n",
    "df = df.drop(columns=columns_to_drop, errors='ignore')"
   ]
  },
  {
   "cell_type": "code",
   "execution_count": 4,
   "metadata": {},
   "outputs": [
    {
     "data": {
      "text/plain": [
       "array(['Average dietary energy supply adequacy (percent) (3-year average)',\n",
       "       'Dietary energy supply used in the estimation of prevalence of undernourishment (kcal/cap/day)',\n",
       "       'Dietary energy supply used in the estimation of prevalence of undernourishment (kcal/cap/day) (3-year average)',\n",
       "       'Share of dietary energy supply derived from cereals, roots and tubers (percent) (3-year average)',\n",
       "       'Average protein supply (g/cap/day) (3-year average)',\n",
       "       'Average supply of protein of animal origin (g/cap/day) (3-year average)',\n",
       "       'Gross domestic product per capita, PPP, (constant 2017 international $)',\n",
       "       'Prevalence of undernourishment (percent) (3-year average)',\n",
       "       'Number of people undernourished (million) (3-year average)',\n",
       "       'Prevalence of severe food insecurity in the total population (percent) (3-year average)',\n",
       "       'Prevalence of severe food insecurity in the male adult population (percent) (3-year average)',\n",
       "       'Prevalence of severe food insecurity in the female adult population (percent) (3-year average)',\n",
       "       'Prevalence of moderate or severe food insecurity in the total population (percent) (3-year average)',\n",
       "       'Prevalence of moderate or severe food insecurity in the male adult population (percent) (3-year average)',\n",
       "       'Prevalence of moderate or severe food insecurity in the female adult population (percent) (3-year average)',\n",
       "       'Number of severely food insecure people (million) (3-year average)',\n",
       "       'Number of severely food insecure male adults (million) (3-year average)',\n",
       "       'Number of severely food insecure female adults (million) (3-year average)',\n",
       "       'Number of moderately or severely food insecure people (million) (3-year average)',\n",
       "       'Number of moderately or severely food insecure male adults (million) (3-year average)',\n",
       "       'Number of moderately or severely food insecure female adults (million) (3-year average)',\n",
       "       'Cereal import dependency ratio (percent) (3-year average)',\n",
       "       'Percent of arable land equipped for irrigation (percent) (3-year average)',\n",
       "       'Value of food imports in total merchandise exports (percent) (3-year average)',\n",
       "       'Political stability and absence of violence/terrorism (index)',\n",
       "       'Per capita food supply variability (kcal/cap/day)',\n",
       "       'Percentage of population using safely managed drinking water services (percent)',\n",
       "       'Percentage of population using at least basic drinking water services (percent)',\n",
       "       'Percentage of population using at least basic sanitation services (percent)',\n",
       "       'Percentage of children under 5 years affected by wasting (percent)',\n",
       "       'Number of children under 5 years affected by wasting (million)',\n",
       "       'Percentage of children under 5 years of age who are stunted (modelled estimates) (percent)',\n",
       "       'Number of children under 5 years of age who are stunted (modeled estimates) (million)',\n",
       "       'Percentage of children under 5 years of age who are overweight (modelled estimates) (percent)',\n",
       "       'Number of children under 5 years of age who are overweight (modeled estimates) (million)',\n",
       "       'Prevalence of obesity in the adult population (18 years and older) (percent)',\n",
       "       'Number of obese adults (18 years and older) (million)',\n",
       "       'Prevalence of anemia among women of reproductive age (15-49 years) (percent)',\n",
       "       'Number of women of reproductive age (15-49 years) affected by anemia (million)',\n",
       "       'Prevalence of exclusive breastfeeding among infants 0-5 months of age (percent)',\n",
       "       'Prevalence of low birthweight (percent)',\n",
       "       'Number of newborns with low birthweight (million)',\n",
       "       'Minimum dietary energy requirement  (kcal/cap/day)',\n",
       "       'Average dietary energy requirement (kcal/cap/day)',\n",
       "       'Coefficient of variation of habitual caloric consumption distribution (real number)',\n",
       "       'Incidence of caloric losses at retail distribution level (percent)',\n",
       "       'Average fat supply (g/cap/day) (3-year average)',\n",
       "       'Rail lines density (total route in km per 100 square km of land area)',\n",
       "       'Percentage of population using safely managed sanitation services (percent)'],\n",
       "      dtype=object)"
      ]
     },
     "execution_count": 4,
     "metadata": {},
     "output_type": "execute_result"
    }
   ],
   "source": [
    "df['Item'].unique()"
   ]
  },
  {
   "cell_type": "code",
   "execution_count": 5,
   "metadata": {},
   "outputs": [
    {
     "data": {
      "text/html": [
       "<div>\n",
       "<style scoped>\n",
       "    .dataframe tbody tr th:only-of-type {\n",
       "        vertical-align: middle;\n",
       "    }\n",
       "\n",
       "    .dataframe tbody tr th {\n",
       "        vertical-align: top;\n",
       "    }\n",
       "\n",
       "    .dataframe thead th {\n",
       "        text-align: right;\n",
       "    }\n",
       "</style>\n",
       "<table border=\"1\" class=\"dataframe\">\n",
       "  <thead>\n",
       "    <tr style=\"text-align: right;\">\n",
       "      <th></th>\n",
       "      <th>Area</th>\n",
       "      <th>Item</th>\n",
       "      <th>Year</th>\n",
       "      <th>Value</th>\n",
       "    </tr>\n",
       "  </thead>\n",
       "  <tbody>\n",
       "    <tr>\n",
       "      <th>0</th>\n",
       "      <td>Afghanistan</td>\n",
       "      <td>Average dietary energy supply adequacy (percen...</td>\n",
       "      <td>2000-2002</td>\n",
       "      <td>87</td>\n",
       "    </tr>\n",
       "    <tr>\n",
       "      <th>1</th>\n",
       "      <td>Afghanistan</td>\n",
       "      <td>Average dietary energy supply adequacy (percen...</td>\n",
       "      <td>2001-2003</td>\n",
       "      <td>88</td>\n",
       "    </tr>\n",
       "    <tr>\n",
       "      <th>2</th>\n",
       "      <td>Afghanistan</td>\n",
       "      <td>Average dietary energy supply adequacy (percen...</td>\n",
       "      <td>2002-2004</td>\n",
       "      <td>91</td>\n",
       "    </tr>\n",
       "    <tr>\n",
       "      <th>3</th>\n",
       "      <td>Afghanistan</td>\n",
       "      <td>Average dietary energy supply adequacy (percen...</td>\n",
       "      <td>2003-2005</td>\n",
       "      <td>92</td>\n",
       "    </tr>\n",
       "    <tr>\n",
       "      <th>4</th>\n",
       "      <td>Afghanistan</td>\n",
       "      <td>Average dietary energy supply adequacy (percen...</td>\n",
       "      <td>2004-2006</td>\n",
       "      <td>93</td>\n",
       "    </tr>\n",
       "  </tbody>\n",
       "</table>\n",
       "</div>"
      ],
      "text/plain": [
       "          Area                                               Item       Year  \\\n",
       "0  Afghanistan  Average dietary energy supply adequacy (percen...  2000-2002   \n",
       "1  Afghanistan  Average dietary energy supply adequacy (percen...  2001-2003   \n",
       "2  Afghanistan  Average dietary energy supply adequacy (percen...  2002-2004   \n",
       "3  Afghanistan  Average dietary energy supply adequacy (percen...  2003-2005   \n",
       "4  Afghanistan  Average dietary energy supply adequacy (percen...  2004-2006   \n",
       "\n",
       "  Value  \n",
       "0    87  \n",
       "1    88  \n",
       "2    91  \n",
       "3    92  \n",
       "4    93  "
      ]
     },
     "execution_count": 5,
     "metadata": {},
     "output_type": "execute_result"
    }
   ],
   "source": [
    "# Liste des valeurs spécifiques dans la colonne 'Item'\n",
    "items_to_select = [\n",
    "    'Average dietary energy supply adequacy (percent) (3-year average)',\n",
    "    'Dietary energy supply used in the estimation of prevalence of undernourishment (kcal/cap/day) (3-year average)',\n",
    "    'Share of dietary energy supply derived from cereals, roots and tubers (percent) (3-year average)',\n",
    "    'Prevalence of anemia among women of reproductive age (15-49 years) (percent)',\n",
    "    'Prevalence of severe food insecurity in the total population (percent) (3-year average)',\n",
    "    'Gross domestic product per capita, PPP, (constant 2017 international $)',\n",
    "    'Average protein supply (g/cap/day) (3-year average)',\n",
    "    'Percentage of children under 5 years affected by wasting (percent)',\n",
    "    'Percentage of population using safely managed drinking water services (percent)',\n",
    "    'Cereal import dependency ratio (percent) (3-year average)',\n",
    "    'Minimum dietary energy requirement  (kcal/cap/day)',\n",
    "    'Average supply of protein of animal origin (g/cap/day) (3-year average)',\n",
    "    'Prevalence of undernourishment (percent) (3-year average)'\n",
    "]\n",
    "\n",
    "# Filtrer les lignes où la colonne 'Item' contient ces valeurs\n",
    "df_undernourishment = df[df['Item'].isin(items_to_select)]\n",
    "\n",
    "# Afficher les premières lignes du DataFrame filtré\n",
    "df_undernourishment.head()"
   ]
  },
  {
   "cell_type": "code",
   "execution_count": 6,
   "metadata": {},
   "outputs": [
    {
     "data": {
      "text/html": [
       "<div>\n",
       "<style scoped>\n",
       "    .dataframe tbody tr th:only-of-type {\n",
       "        vertical-align: middle;\n",
       "    }\n",
       "\n",
       "    .dataframe tbody tr th {\n",
       "        vertical-align: top;\n",
       "    }\n",
       "\n",
       "    .dataframe thead th {\n",
       "        text-align: right;\n",
       "    }\n",
       "</style>\n",
       "<table border=\"1\" class=\"dataframe\">\n",
       "  <thead>\n",
       "    <tr style=\"text-align: right;\">\n",
       "      <th></th>\n",
       "      <th>Area</th>\n",
       "      <th>Item</th>\n",
       "      <th>Year</th>\n",
       "      <th>Value</th>\n",
       "    </tr>\n",
       "  </thead>\n",
       "  <tbody>\n",
       "    <tr>\n",
       "      <th>173353</th>\n",
       "      <td>Zimbabwe</td>\n",
       "      <td>Minimum dietary energy requirement  (kcal/cap/...</td>\n",
       "      <td>2019</td>\n",
       "      <td>1740</td>\n",
       "    </tr>\n",
       "    <tr>\n",
       "      <th>173354</th>\n",
       "      <td>Zimbabwe</td>\n",
       "      <td>Minimum dietary energy requirement  (kcal/cap/...</td>\n",
       "      <td>2020</td>\n",
       "      <td>1743</td>\n",
       "    </tr>\n",
       "    <tr>\n",
       "      <th>173355</th>\n",
       "      <td>Zimbabwe</td>\n",
       "      <td>Minimum dietary energy requirement  (kcal/cap/...</td>\n",
       "      <td>2021</td>\n",
       "      <td>1747</td>\n",
       "    </tr>\n",
       "    <tr>\n",
       "      <th>173356</th>\n",
       "      <td>Zimbabwe</td>\n",
       "      <td>Minimum dietary energy requirement  (kcal/cap/...</td>\n",
       "      <td>2022</td>\n",
       "      <td>1752</td>\n",
       "    </tr>\n",
       "    <tr>\n",
       "      <th>173357</th>\n",
       "      <td>Zimbabwe</td>\n",
       "      <td>Minimum dietary energy requirement  (kcal/cap/...</td>\n",
       "      <td>2023</td>\n",
       "      <td>1757</td>\n",
       "    </tr>\n",
       "  </tbody>\n",
       "</table>\n",
       "</div>"
      ],
      "text/plain": [
       "            Area                                               Item  Year  \\\n",
       "173353  Zimbabwe  Minimum dietary energy requirement  (kcal/cap/...  2019   \n",
       "173354  Zimbabwe  Minimum dietary energy requirement  (kcal/cap/...  2020   \n",
       "173355  Zimbabwe  Minimum dietary energy requirement  (kcal/cap/...  2021   \n",
       "173356  Zimbabwe  Minimum dietary energy requirement  (kcal/cap/...  2022   \n",
       "173357  Zimbabwe  Minimum dietary energy requirement  (kcal/cap/...  2023   \n",
       "\n",
       "       Value  \n",
       "173353  1740  \n",
       "173354  1743  \n",
       "173355  1747  \n",
       "173356  1752  \n",
       "173357  1757  "
      ]
     },
     "execution_count": 6,
     "metadata": {},
     "output_type": "execute_result"
    }
   ],
   "source": [
    "df_undernourishment.tail()"
   ]
  },
  {
   "cell_type": "code",
   "execution_count": 7,
   "metadata": {},
   "outputs": [
    {
     "data": {
      "text/plain": [
       "(48523, 4)"
      ]
     },
     "execution_count": 7,
     "metadata": {},
     "output_type": "execute_result"
    }
   ],
   "source": [
    "df_undernourishment.shape"
   ]
  },
  {
   "cell_type": "code",
   "execution_count": 8,
   "metadata": {},
   "outputs": [
    {
     "data": {
      "text/plain": [
       "Area        0\n",
       "Item        0\n",
       "Year        0\n",
       "Value    5518\n",
       "dtype: int64"
      ]
     },
     "execution_count": 8,
     "metadata": {},
     "output_type": "execute_result"
    }
   ],
   "source": [
    "df_undernourishment.isna().sum()"
   ]
  },
  {
   "cell_type": "code",
   "execution_count": 9,
   "metadata": {},
   "outputs": [
    {
     "data": {
      "text/plain": [
       "Item\n",
       "Percentage of children under 5 years affected by wasting (percent)                                                4693\n",
       "Minimum dietary energy requirement  (kcal/cap/day)                                                                4632\n",
       "Prevalence of undernourishment (percent) (3-year average)                                                         4488\n",
       "Gross domestic product per capita, PPP, (constant 2017 international $)                                           4330\n",
       "Prevalence of anemia among women of reproductive age (15-49 years) (percent)                                      4080\n",
       "Dietary energy supply used in the estimation of prevalence of undernourishment (kcal/cap/day) (3-year average)    3828\n",
       "Average dietary energy supply adequacy (percent) (3-year average)                                                 3809\n",
       "Share of dietary energy supply derived from cereals, roots and tubers (percent) (3-year average)                  3578\n",
       "Average protein supply (g/cap/day) (3-year average)                                                               3578\n",
       "Average supply of protein of animal origin (g/cap/day) (3-year average)                                           3578\n",
       "Cereal import dependency ratio (percent) (3-year average)                                                         3350\n",
       "Percentage of population using safely managed drinking water services (percent)                                   2947\n",
       "Prevalence of severe food insecurity in the total population (percent) (3-year average)                           1632\n",
       "Name: count, dtype: int64"
      ]
     },
     "execution_count": 9,
     "metadata": {},
     "output_type": "execute_result"
    }
   ],
   "source": [
    "df_undernourishment['Item'].value_counts()"
   ]
  },
  {
   "cell_type": "code",
   "execution_count": 10,
   "metadata": {},
   "outputs": [],
   "source": [
    "df_undernourishment.to_csv('undernourishment.csv')"
   ]
  },
  {
   "cell_type": "code",
   "execution_count": 13,
   "metadata": {},
   "outputs": [
    {
     "data": {
      "text/plain": [
       "Index(['Unnamed: 0', 'Area', 'Item', 'Year', 'Value'], dtype='object')"
      ]
     },
     "execution_count": 13,
     "metadata": {},
     "output_type": "execute_result"
    }
   ],
   "source": [
    "data = pd.read_csv('undernourishment.csv')\n",
    "data.columns"
   ]
  },
  {
   "cell_type": "code",
   "execution_count": 14,
   "metadata": {},
   "outputs": [
    {
     "data": {
      "text/html": [
       "<div>\n",
       "<style scoped>\n",
       "    .dataframe tbody tr th:only-of-type {\n",
       "        vertical-align: middle;\n",
       "    }\n",
       "\n",
       "    .dataframe tbody tr th {\n",
       "        vertical-align: top;\n",
       "    }\n",
       "\n",
       "    .dataframe thead th {\n",
       "        text-align: right;\n",
       "    }\n",
       "</style>\n",
       "<table border=\"1\" class=\"dataframe\">\n",
       "  <thead>\n",
       "    <tr style=\"text-align: right;\">\n",
       "      <th></th>\n",
       "      <th>Unnamed: 0</th>\n",
       "      <th>Area</th>\n",
       "      <th>Item</th>\n",
       "      <th>Year</th>\n",
       "      <th>Value</th>\n",
       "    </tr>\n",
       "  </thead>\n",
       "  <tbody>\n",
       "    <tr>\n",
       "      <th>0</th>\n",
       "      <td>0</td>\n",
       "      <td>Afghanistan</td>\n",
       "      <td>Average dietary energy supply adequacy (percen...</td>\n",
       "      <td>2000-2002</td>\n",
       "      <td>87</td>\n",
       "    </tr>\n",
       "    <tr>\n",
       "      <th>1</th>\n",
       "      <td>1</td>\n",
       "      <td>Afghanistan</td>\n",
       "      <td>Average dietary energy supply adequacy (percen...</td>\n",
       "      <td>2001-2003</td>\n",
       "      <td>88</td>\n",
       "    </tr>\n",
       "    <tr>\n",
       "      <th>2</th>\n",
       "      <td>2</td>\n",
       "      <td>Afghanistan</td>\n",
       "      <td>Average dietary energy supply adequacy (percen...</td>\n",
       "      <td>2002-2004</td>\n",
       "      <td>91</td>\n",
       "    </tr>\n",
       "    <tr>\n",
       "      <th>3</th>\n",
       "      <td>3</td>\n",
       "      <td>Afghanistan</td>\n",
       "      <td>Average dietary energy supply adequacy (percen...</td>\n",
       "      <td>2003-2005</td>\n",
       "      <td>92</td>\n",
       "    </tr>\n",
       "    <tr>\n",
       "      <th>4</th>\n",
       "      <td>4</td>\n",
       "      <td>Afghanistan</td>\n",
       "      <td>Average dietary energy supply adequacy (percen...</td>\n",
       "      <td>2004-2006</td>\n",
       "      <td>93</td>\n",
       "    </tr>\n",
       "  </tbody>\n",
       "</table>\n",
       "</div>"
      ],
      "text/plain": [
       "   Unnamed: 0         Area                                               Item  \\\n",
       "0           0  Afghanistan  Average dietary energy supply adequacy (percen...   \n",
       "1           1  Afghanistan  Average dietary energy supply adequacy (percen...   \n",
       "2           2  Afghanistan  Average dietary energy supply adequacy (percen...   \n",
       "3           3  Afghanistan  Average dietary energy supply adequacy (percen...   \n",
       "4           4  Afghanistan  Average dietary energy supply adequacy (percen...   \n",
       "\n",
       "        Year Value  \n",
       "0  2000-2002    87  \n",
       "1  2001-2003    88  \n",
       "2  2002-2004    91  \n",
       "3  2003-2005    92  \n",
       "4  2004-2006    93  "
      ]
     },
     "execution_count": 14,
     "metadata": {},
     "output_type": "execute_result"
    }
   ],
   "source": [
    "data.head()"
   ]
  }
 ],
 "metadata": {
  "kernelspec": {
   "display_name": "base",
   "language": "python",
   "name": "python3"
  },
  "language_info": {
   "codemirror_mode": {
    "name": "ipython",
    "version": 3
   },
   "file_extension": ".py",
   "mimetype": "text/x-python",
   "name": "python",
   "nbconvert_exporter": "python",
   "pygments_lexer": "ipython3",
   "version": "3.11.5"
  }
 },
 "nbformat": 4,
 "nbformat_minor": 2
}
